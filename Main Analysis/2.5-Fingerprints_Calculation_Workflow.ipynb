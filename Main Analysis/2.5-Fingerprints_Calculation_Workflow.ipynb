{
 "cells": [
  {
   "cell_type": "code",
   "execution_count": 6,
   "metadata": {
    "id": "ybm4ZoF05Pei"
   },
   "outputs": [],
   "source": [
    "import warnings\n",
    "warnings.filterwarnings('ignore')"
   ]
  },
  {
   "cell_type": "code",
   "execution_count": 7,
   "metadata": {
    "colab": {
     "base_uri": "https://localhost:8080/"
    },
    "executionInfo": {
     "elapsed": 6391,
     "status": "ok",
     "timestamp": 1723724612799,
     "user": {
      "displayName": "Colab Pro",
      "userId": "07871156331023514725"
     },
     "user_tz": -180
    },
    "id": "aWm9Nmpm5rwq",
    "outputId": "352883ef-4faa-4e86-877a-964332dbc187"
   },
   "outputs": [],
   "source": [
    "! pip install rdkit -q"
   ]
  },
  {
   "cell_type": "code",
   "execution_count": 7,
   "metadata": {
    "id": "ZxUXrUmdPNSa"
   },
   "outputs": [],
   "source": [
    "import pandas as pd\n",
    "\n",
    "curated_df = pd.read_csv(\"MaindatasetEC50-CompoundsCurated.csv\")"
   ]
  },
  {
   "cell_type": "code",
   "execution_count": 8,
   "metadata": {
    "id": "9m1g8lNaC0Y2"
   },
   "outputs": [],
   "source": [
    "curated_df = curated_df[~curated_df['Cleaned_SMILES'].isna()]"
   ]
  },
  {
   "cell_type": "markdown",
   "metadata": {
    "id": "jtcLapd2QceC"
   },
   "source": [
    "# Fingerprints"
   ]
  },
  {
   "cell_type": "code",
   "execution_count": 9,
   "metadata": {
    "colab": {
     "base_uri": "https://localhost:8080/"
    },
    "executionInfo": {
     "elapsed": 7189,
     "status": "ok",
     "timestamp": 1723730169084,
     "user": {
      "displayName": "Colab Pro",
      "userId": "07871156331023514725"
     },
     "user_tz": -180
    },
    "id": "4EgEo3EmPu_0",
    "outputId": "c77d1f86-01cb-4b1d-c683-be737dbaa262"
   },
   "outputs": [
    {
     "name": "stdout",
     "output_type": "stream",
     "text": [
      "2024-12-03 17:06:16,678 - root - INFO - Initialized fingerprint generators and ensured output directory exists.\n",
      "2024-12-03 17:07:12,903 - root - INFO - All fingerprints are calculated and saved in the output folder\n"
     ]
    }
   ],
   "source": [
    "\n",
    "import os\n",
    "import csv\n",
    "from rdkit import Chem\n",
    "from rdkit.Chem import rdFingerprintGenerator, MACCSkeys, RDKFingerprint\n",
    "import logging\n",
    "import sys\n",
    "\n",
    "# Clear any existing handlers\n",
    "for handler in logging.root.handlers[:]:\n",
    "    logging.root.removeHandler(handler)\n",
    "\n",
    "# Reconfigure logging\n",
    "logging.basicConfig(stream=sys.stdout, level=logging.INFO, format='%(asctime)s - %(name)s - %(levelname)s - %(message)s')\n",
    "\n",
    "\n",
    "class FingerprintCalculator:\n",
    "    \"\"\"\n",
    "    Processes molecular fingerprints using RDKit's FingerprintGenerator, formatting data for machine learning models\n",
    "    and saving each type to separate CSV files directly after computation to ensure memory efficiency. This approach is\n",
    "    particularly useful in environmental toxicology, where analyzing large datasets of chemical compounds is common.\n",
    "    \"\"\"\n",
    "\n",
    "    def __init__(self, sdf_file, output_folder):\n",
    "        \"\"\"\n",
    "        Initialize the calculator with paths to the input SDF file and the output directory for fingerprint files.\n",
    "        Args:\n",
    "            sdf_file (str): Path to the SDF file containing the chemical structures.\n",
    "            output_folder (str): Path to the directory where fingerprint files will be saved.\n",
    "        \"\"\"\n",
    "        self.sdf_file = sdf_file\n",
    "        self.output_folder = output_folder\n",
    "        os.makedirs(self.output_folder, exist_ok=True)  # Ensure the output directory exists\n",
    "        # Initialize fingerprint generators with specific configurations.\n",
    "        self.morgan_generator = rdFingerprintGenerator.GetMorganGenerator(radius=2, fpSize=2048)\n",
    "        self.atom_pair_generator = rdFingerprintGenerator.GetAtomPairGenerator()\n",
    "        self.torsion_generator = rdFingerprintGenerator.GetTopologicalTorsionGenerator()\n",
    "        logging.info(\"Initialized fingerprint generators and ensured output directory exists.\")\n",
    "\n",
    "    def molecule_supplier(self):\n",
    "        \"\"\"\n",
    "        Generator to yield molecules one at a time from the SDF file, ensuring efficient memory usage.\n",
    "        \"\"\"\n",
    "        with Chem.SDMolSupplier(self.sdf_file, sanitize=True) as suppl:\n",
    "            for mol in suppl:\n",
    "                if mol and mol.GetNumAtoms() > 0:  # Check that molecule is not None and has atoms\n",
    "                    yield mol\n",
    "                else:\n",
    "                    logging.warning(\"Skipped a molecule due to being None or having no atoms.\")\n",
    "\n",
    "    def calculate_fingerprints(self, mol):\n",
    "        \"\"\"\n",
    "        Calculate molecular fingerprints using configured generators and convert them to integer arrays.\n",
    "        Each fingerprint type provides a different perspective on the molecular structure and potential biological activity,\n",
    "        making them crucial for species sensitivity distribution (SSD) modeling in toxicological assessments.\n",
    "        \"\"\"\n",
    "        try:\n",
    "            smiles = Chem.MolToSmiles(mol)  # SMILES representation of the molecule\n",
    "            return {\n",
    "                'SMILES': smiles,\n",
    "                'Morgan': self.morgan_generator.GetFingerprint(mol).ToBitString(),  # Circular fingerprint capturing local molecular environment\n",
    "                'MACCS': MACCSkeys.GenMACCSKeys(mol).ToBitString(),  # 166 key bits representing presence/absence of certain chemical substructures\n",
    "                'AtomPair': self.atom_pair_generator.GetFingerprint(mol).ToBitString(),  # Describes connections between pairs of atoms\n",
    "                'Torsion': self.torsion_generator.GetFingerprint(mol).ToBitString(),  # Captures torsional angles to reflect molecular 3D aspects\n",
    "                'RDKitFP': RDKFingerprint(mol).ToBitString(),  # A generic hash-based fingerprint provided by RDKit\n",
    "            }\n",
    "        except Exception as e:\n",
    "            logging.error(f\"Failed to process fingerprints for molecule due to an error: {e}\")\n",
    "            return None\n",
    "\n",
    "    def process_fingerprints(self):\n",
    "        \"\"\"\n",
    "        Process each molecule to calculate fingerprints and directly append them to separate CSV files by fingerprint type.\n",
    "        This method handles data efficiently by writing each entry as processed to minimize memory usage.\n",
    "        \"\"\"\n",
    "        header_info = {key: ['SMILES'] + [f'{key}_{i}' for i in range(2048)] for key in ['Morgan', 'MACCS', 'AtomPair', 'Torsion', 'RDKitFP']}\n",
    "        file_handles = {key: open(os.path.join(self.output_folder, f\"{key}_fingerprints.csv\"), 'a', newline='') for key in header_info}\n",
    "        writers = {key: csv.writer(file) for key, file in file_handles.items()}\n",
    "\n",
    "        for key, writer in writers.items():\n",
    "            writer.writerow(header_info[key])  # Write headers for each fingerprint file\n",
    "\n",
    "        for mol in self.molecule_supplier():\n",
    "            fingerprints = self.calculate_fingerprints(mol)\n",
    "            if fingerprints:\n",
    "                for key, value in fingerprints.items():\n",
    "                    if key != 'SMILES':  # Only process actual fingerprint data\n",
    "                        writers[key].writerow([fingerprints['SMILES']] + list(map(int, value)))\n",
    "        logging.info(f\"All fingerprints are calculated and saved in the output folder\")\n",
    "\n",
    "        for file in file_handles.values():\n",
    "            file.close()  # Close files after writing to ensure data integrity\n",
    "\n",
    "input_file = 'MaindatasetEC50-CompoundsCurated.sdf'\n",
    "output_folder = 'datasetEC50'\n",
    "calculator = FingerprintCalculator(input_file, output_folder)\n",
    "calculator.process_fingerprints()"
   ]
  },
  {
   "cell_type": "code",
   "execution_count": null,
   "metadata": {
    "id": "UDADQhvhRLpK"
   },
   "outputs": [],
   "source": []
  }
 ],
 "metadata": {
  "colab": {
   "machine_shape": "hm",
   "provenance": []
  },
  "kernelspec": {
   "display_name": "Python 3 (ipykernel)",
   "language": "python",
   "name": "python3"
  },
  "language_info": {
   "codemirror_mode": {
    "name": "ipython",
    "version": 3
   },
   "file_extension": ".py",
   "mimetype": "text/x-python",
   "name": "python",
   "nbconvert_exporter": "python",
   "pygments_lexer": "ipython3",
   "version": "3.11.7"
  }
 },
 "nbformat": 4,
 "nbformat_minor": 4
}
